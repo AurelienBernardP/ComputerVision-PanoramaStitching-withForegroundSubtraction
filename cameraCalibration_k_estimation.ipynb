{
 "cells": [
  {
   "cell_type": "markdown",
   "metadata": {},
   "source": [
    "# Camera Calibration"
   ]
  },
  {
   "cell_type": "markdown",
   "metadata": {},
   "source": [
    "Code to take images of a checkerboard and obtain the instrinsic parameters of the camera\n",
    "\n",
    "DISCALIMER: code inspired from the explainetions and code found at : https://learnopencv.com/camera-calibration-using-opencv/"
   ]
  },
  {
   "cell_type": "markdown",
   "metadata": {},
   "source": [
    "imports: "
   ]
  },
  {
   "cell_type": "code",
   "execution_count": 6,
   "metadata": {},
   "outputs": [],
   "source": [
    "#!/usr/bin/env python\n",
    " \n",
    "import cv2\n",
    "import numpy as np\n",
    "import os\n",
    "import glob"
   ]
  },
  {
   "cell_type": "markdown",
   "metadata": {},
   "source": [
    "Define checkerboard size and point vectors"
   ]
  },
  {
   "cell_type": "code",
   "execution_count": 7,
   "metadata": {},
   "outputs": [],
   "source": [
    "CHECKERBOARD = (6,8)\n",
    "criteria = (cv2.TERM_CRITERIA_EPS + cv2.TERM_CRITERIA_MAX_ITER, 30, 0.001)\n",
    " \n",
    "# Creating vector to store vectors of 3D points for each checkerboard image\n",
    "objpoints = []\n",
    "# Creating vector to store vectors of 2D points for each checkerboard image\n",
    "imgpoints = [] \n",
    "\n",
    "# Defining the world coordinates for 3D points\n",
    "objp = np.zeros((1, CHECKERBOARD[0] * CHECKERBOARD[1], 3), np.float32)\n",
    "objp[0,:,:2] = np.mgrid[0:CHECKERBOARD[0], 0:CHECKERBOARD[1]].T.reshape(-1, 2)\n",
    "prev_img_shape = None"
   ]
  },
  {
   "cell_type": "markdown",
   "metadata": {},
   "source": [
    "Take images or select them from memory if any"
   ]
  },
  {
   "cell_type": "code",
   "execution_count": 24,
   "metadata": {},
   "outputs": [
    {
     "name": "stdout",
     "output_type": "stream",
     "text": [
      "/home/nvidia/Desktop/projects\n",
      "calibration images folder found\n",
      "['/home/nvidia/Desktop/projects/calibration_images/calibration_image_0.jpg', '/home/nvidia/Desktop/projects/calibration_images/calibration_image_1.jpg', '/home/nvidia/Desktop/projects/calibration_images/calibration_image_2.jpg', '/home/nvidia/Desktop/projects/calibration_images/calibration_image_5.jpg', '/home/nvidia/Desktop/projects/calibration_images/calibration_image_6.jpg', '/home/nvidia/Desktop/projects/calibration_images/calibration_image_8.jpg', '/home/nvidia/Desktop/projects/calibration_images/calibration_image_9.jpg', '/home/nvidia/Desktop/projects/calibration_images/calibration_image_7.jpg', '/home/nvidia/Desktop/projects/calibration_images/calibration_image_3.jpg', '/home/nvidia/Desktop/projects/calibration_images/calibration_image_4.jpg']\n",
      "here\n"
     ]
    }
   ],
   "source": [
    "curr_path = os.getcwd()\n",
    "print(curr_path)\n",
    "images_path = os.path.join(curr_path, 'calibration_images')\n",
    "\n",
    "if os.path.exists(os.path.join(curr_path,  'calibration_images')):\n",
    "    # Extracting path of individual image stored in a given directory\n",
    "    print(\"calibration images folder found\")\n",
    "    \n",
    "else : \n",
    "    os.mkdir(images_path)\n",
    "\n",
    "    # calibration images don't exist so lets take pictures\n",
    "    print(\"calibration images folder not found. Let's take a set of 10 pictures of the checkboard\")\n",
    "    # Create the object to use the webcam\n",
    "    gst_str = \"nvarguscamerasrc ! video/x-raw(memory:NVMM),\" \\\n",
    "                \"width=(int)1280, height=(int)720, format=(string)NV12, \" \\\n",
    "                \"framerate=1/1! nvvidconv ! video/x-raw, \" \\\n",
    "                \"width=(int)1280, height=(int)720, format=(string)BGRx ! \" \\\n",
    "                \"videoconvert ! video/x-raw, format=(string)BGR !\" \\\n",
    "                \"appsink\"\n",
    "    vid = cv2.VideoCapture(gst_str, cv2.CAP_GSTREAMER)\n",
    "    cv2.namedWindow(\"press space to capture image\")\n",
    "    img_counter = 0\n",
    "    # Read a frame from your webcam\n",
    "    while True:\n",
    "        \n",
    "        result, frame = vid.read()\n",
    "        if not result:\n",
    "            print(\"failed to grab frame\")\n",
    "            break\n",
    "        cv2.imshow('press space to capture image', frame)\n",
    "        k = cv2.waitKey(1)\n",
    "        if k%256 == 27:\n",
    "            # ESC pressed\n",
    "            print(\"Escape hit, closing...\")\n",
    "            break\n",
    "        elif k%256 == 32:\n",
    "            # SPACE pressed\n",
    "            \n",
    "            cv2.imwrite(os.path.join(images_path, \"calibration_image_\" + str(img_counter) +\".jpg\"), frame)\n",
    "            print(\" image written!\")\n",
    "            img_counter += 1\n",
    "            if img_counter > 9:\n",
    "                break\n",
    "\n",
    "images = glob.glob(os.path.join(images_path , '*.jpg'))\n",
    "# Close the webcam\n",
    "vid.release()            \n",
    "cv2.destroyAllWindows()"
   ]
  },
  {
   "cell_type": "markdown",
   "metadata": {},
   "source": [
    "extract points from images"
   ]
  },
  {
   "cell_type": "code",
   "execution_count": 25,
   "metadata": {},
   "outputs": [],
   "source": [
    "for fname in images:\n",
    "    img = cv2.imread(fname)\n",
    "    gray = cv2.cvtColor(img,cv2.COLOR_BGR2GRAY)\n",
    "    # Find the chess board corners\n",
    "    # If desired number of corners are found in the image then ret = true\n",
    "    ret, corners = cv2.findChessboardCorners(gray, CHECKERBOARD, cv2.CALIB_CB_ADAPTIVE_THRESH + cv2.CALIB_CB_FAST_CHECK + cv2.CALIB_CB_NORMALIZE_IMAGE)\n",
    "    \n",
    "    \"\"\"\n",
    "    If desired number of corner are detected,\n",
    "    we refine the pixel coordinates and display \n",
    "    them on the images of checker board\n",
    "    \"\"\"\n",
    "    if ret == True:\n",
    "        objpoints.append(objp)\n",
    "        # refining pixel coordinates for given 2d points.\n",
    "        corners2 = cv2.cornerSubPix(gray, corners, (11,11),(-1,-1), criteria)\n",
    "        \n",
    "        imgpoints.append(corners2)\n",
    "\n",
    "        # Draw and display the corners\n",
    "        img = cv2.drawChessboardCorners(img, CHECKERBOARD, corners2, ret)\n",
    "    \n",
    "    cv2.imshow('img',img)\n",
    "    cv2.waitKey(0)\n",
    "    \n",
    "cv2.destroyAllWindows()"
   ]
  },
  {
   "cell_type": "markdown",
   "metadata": {},
   "source": [
    "Calibration function and show camera properties"
   ]
  },
  {
   "cell_type": "code",
   "execution_count": 26,
   "metadata": {},
   "outputs": [
    {
     "name": "stdout",
     "output_type": "stream",
     "text": [
      "Camera matrix : \n",
      "\n",
      "[[ 949.08854289    0.          666.31415728]\n",
      " [   0.          951.10897066  369.93327023]\n",
      " [   0.            0.            1.        ]]\n",
      "dist : \n",
      "\n",
      "[[  1.31223609e-01  -2.82456203e-01   4.00777386e-03   9.31164684e-05\n",
      "    6.70004585e-02]]\n",
      "rvecs : \n",
      "\n",
      "[array([[-0.14640488],\n",
      "       [-0.25136172],\n",
      "       [-1.50007839]]), array([[-0.13557091],\n",
      "       [-0.3831708 ],\n",
      "       [-1.52603872]]), array([[-0.69085935],\n",
      "       [ 0.23368046],\n",
      "       [-1.26155512]]), array([[ 0.08987701],\n",
      "       [-0.27099053],\n",
      "       [-1.45743478]]), array([[-0.13699981],\n",
      "       [-0.20853942],\n",
      "       [-1.37314104]]), array([[-0.17442714],\n",
      "       [-0.00292975],\n",
      "       [-1.52411247]]), array([[-0.35166302],\n",
      "       [ 0.2336462 ],\n",
      "       [-1.32407352]]), array([[-0.03102687],\n",
      "       [ 0.35290343],\n",
      "       [ 1.49154998]]), array([[-0.2601516 ],\n",
      "       [-0.16355316],\n",
      "       [-1.43301135]]), array([[ 0.40956747],\n",
      "       [-0.77110543],\n",
      "       [-1.49628555]])]\n",
      "tvecs : \n",
      "\n",
      "[array([[ -4.28493489],\n",
      "       [  1.04238129],\n",
      "       [ 20.09229786]]), array([[ -4.56325594],\n",
      "       [  0.68147343],\n",
      "       [ 30.39808592]]), array([[ -1.81572968],\n",
      "       [  1.4614182 ],\n",
      "       [ 24.40770312]]), array([[ -5.6153402 ],\n",
      "       [  1.47859721],\n",
      "       [ 18.94813161]]), array([[-11.01295549],\n",
      "       [ -0.99497168],\n",
      "       [ 19.31750685]]), array([[  1.24780617],\n",
      "       [  2.4051518 ],\n",
      "       [ 16.6292059 ]]), array([[ -2.20522815],\n",
      "       [  1.70295646],\n",
      "       [ 16.8350154 ]]), array([[  8.31337805],\n",
      "       [ -5.18903912],\n",
      "       [ 19.36573298]]), array([[ -5.02042262],\n",
      "       [  1.64764636],\n",
      "       [ 15.95938173]]), array([[ -8.67961588],\n",
      "       [  1.33362629],\n",
      "       [ 16.82632646]])]\n"
     ]
    }
   ],
   "source": [
    "ret, mtx, dist, rvecs, tvecs = cv2.calibrateCamera(objpoints, imgpoints, gray.shape[::-1], None, None)\n",
    " \n",
    "print(\"Camera matrix : \\n\")\n",
    "print(mtx)\n",
    "print(\"dist : \\n\")\n",
    "print(dist)\n",
    "print(\"rvecs : \\n\")\n",
    "print(rvecs)\n",
    "print(\"tvecs : \\n\")\n",
    "print(tvecs)"
   ]
  }
 ],
 "metadata": {
  "kernelspec": {
   "display_name": "Python 3.6.9 64-bit",
   "language": "python",
   "name": "python3"
  },
  "language_info": {
   "codemirror_mode": {
    "name": "ipython",
    "version": 3
   },
   "file_extension": ".py",
   "mimetype": "text/x-python",
   "name": "python",
   "nbconvert_exporter": "python",
   "pygments_lexer": "ipython3",
   "version": "3.6.9"
  },
  "orig_nbformat": 4,
  "vscode": {
   "interpreter": {
    "hash": "31f2aee4e71d21fbe5cf8b01ff0e069b9275f58929596ceb00d14d90e3e16cd6"
   }
  }
 },
 "nbformat": 4,
 "nbformat_minor": 2
}
